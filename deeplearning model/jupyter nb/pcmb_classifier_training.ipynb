{
  "nbformat": 4,
  "nbformat_minor": 0,
  "metadata": {
    "colab": {
      "name": "pcmb_classifier.ipynb",
      "provenance": [],
      "collapsed_sections": []
    },
    "kernelspec": {
      "name": "python3",
      "display_name": "Python 3"
    },
    "language_info": {
      "name": "python"
    }
  },
  "cells": [
    {
      "cell_type": "code",
      "metadata": {
        "id": "G4747BwVXYhB"
      },
      "source": [
        "from tensorflow.keras.preprocessing.text import Tokenizer\n",
        "from tensorflow.keras.preprocessing.sequence import pad_sequences\n",
        "from tensorflow.keras.layers import Dense, Input, GlobalMaxPooling1D, Conv1D, MaxPooling1D\n",
        "from tensorflow.keras.layers import LSTM, Embedding, GRU\n",
        "import tensorflow as tf"
      ],
      "execution_count": null,
      "outputs": []
    },
    {
      "cell_type": "code",
      "metadata": {
        "id": "2nOl5_bHXjSW"
      },
      "source": [
        "import numpy as np\n",
        "import pandas as pd\n",
        "import matplotlib.pyplot as plt\n",
        "from sklearn.model_selection import train_test_split"
      ],
      "execution_count": null,
      "outputs": []
    },
    {
      "cell_type": "code",
      "metadata": {
        "id": "f-IREJbaX5Pw"
      },
      "source": [
        "def plot(history, info_type='loss'):\n",
        "\n",
        "    \"\"\"\n",
        "    history: the history callback from a model.fit\n",
        "    info_type: what you want to show. (e.g. 'loss', 'acc', 'accuracy')\n",
        "    \"\"\"\n",
        "    plt.plot(history.history[info_type], label=[info_type])\n",
        "    try:\n",
        "        plt.plot(history.history['val_' + info_type], label=['val_' + info_type])\n",
        "    except Exception:\n",
        "        print(f'no val_{info_type}')\n",
        "    plt.title(info_type)\n",
        "    plt.legend()"
      ],
      "execution_count": null,
      "outputs": []
    },
    {
      "cell_type": "code",
      "metadata": {
        "id": "IBZGaX77X9V8"
      },
      "source": [
        "df = pd.read_csv('/content/drive/MyDrive/Colab Notebooks/subjects-questions.csv')"
      ],
      "execution_count": null,
      "outputs": []
    },
    {
      "cell_type": "code",
      "metadata": {
        "colab": {
          "base_uri": "https://localhost:8080/",
          "height": 206
        },
        "id": "A_xOyaTLYQMC",
        "outputId": "b4356479-01c2-43ae-c722-23faaf601e02"
      },
      "source": [
        "df.head()"
      ],
      "execution_count": null,
      "outputs": [
        {
          "output_type": "execute_result",
          "data": {
            "text/html": [
              "<div>\n",
              "<style scoped>\n",
              "    .dataframe tbody tr th:only-of-type {\n",
              "        vertical-align: middle;\n",
              "    }\n",
              "\n",
              "    .dataframe tbody tr th {\n",
              "        vertical-align: top;\n",
              "    }\n",
              "\n",
              "    .dataframe thead th {\n",
              "        text-align: right;\n",
              "    }\n",
              "</style>\n",
              "<table border=\"1\" class=\"dataframe\">\n",
              "  <thead>\n",
              "    <tr style=\"text-align: right;\">\n",
              "      <th></th>\n",
              "      <th>eng</th>\n",
              "      <th>Subject</th>\n",
              "    </tr>\n",
              "  </thead>\n",
              "  <tbody>\n",
              "    <tr>\n",
              "      <th>0</th>\n",
              "      <td>An anti-forest measure is\\nA. Afforestation\\nB...</td>\n",
              "      <td>Biology</td>\n",
              "    </tr>\n",
              "    <tr>\n",
              "      <th>1</th>\n",
              "      <td>Among the following organic acids, the acid pr...</td>\n",
              "      <td>Chemistry</td>\n",
              "    </tr>\n",
              "    <tr>\n",
              "      <th>2</th>\n",
              "      <td>If the area of two similar triangles are equal...</td>\n",
              "      <td>Maths</td>\n",
              "    </tr>\n",
              "    <tr>\n",
              "      <th>3</th>\n",
              "      <td>In recent year, there has been a growing\\nconc...</td>\n",
              "      <td>Biology</td>\n",
              "    </tr>\n",
              "    <tr>\n",
              "      <th>4</th>\n",
              "      <td>Which of the following statement\\nregarding tr...</td>\n",
              "      <td>Physics</td>\n",
              "    </tr>\n",
              "  </tbody>\n",
              "</table>\n",
              "</div>"
            ],
            "text/plain": [
              "                                                 eng    Subject\n",
              "0  An anti-forest measure is\\nA. Afforestation\\nB...    Biology\n",
              "1  Among the following organic acids, the acid pr...  Chemistry\n",
              "2  If the area of two similar triangles are equal...      Maths\n",
              "3  In recent year, there has been a growing\\nconc...    Biology\n",
              "4  Which of the following statement\\nregarding tr...    Physics"
            ]
          },
          "metadata": {},
          "execution_count": 38
        }
      ]
    },
    {
      "cell_type": "code",
      "metadata": {
        "id": "7yZaGUrsYTSl"
      },
      "source": [
        "df['ca_labels'] = df['Subject'].map({'Biology':0, 'Chemistry':1, 'Maths':2, 'Physics':3})"
      ],
      "execution_count": null,
      "outputs": []
    },
    {
      "cell_type": "code",
      "metadata": {
        "id": "wlEsCZAoYfn0"
      },
      "source": [
        "y = df['ca_labels'].values"
      ],
      "execution_count": null,
      "outputs": []
    },
    {
      "cell_type": "code",
      "metadata": {
        "colab": {
          "base_uri": "https://localhost:8080/"
        },
        "id": "xkjo5HvAEb6c",
        "outputId": "9817f77b-3d54-4658-8bc5-7cbb1617575c"
      },
      "source": [
        "df['ca_labels'].values"
      ],
      "execution_count": null,
      "outputs": [
        {
          "output_type": "execute_result",
          "data": {
            "text/plain": [
              "array([0, 1, 2, ..., 0, 3, 3])"
            ]
          },
          "metadata": {},
          "execution_count": 41
        }
      ]
    },
    {
      "cell_type": "code",
      "metadata": {
        "colab": {
          "base_uri": "https://localhost:8080/"
        },
        "id": "4taLLiTKYjef",
        "outputId": "aac428bf-8f89-4bf6-af9e-9ad9557428e1"
      },
      "source": [
        "y.shape"
      ],
      "execution_count": null,
      "outputs": [
        {
          "output_type": "execute_result",
          "data": {
            "text/plain": [
              "(122519,)"
            ]
          },
          "metadata": {},
          "execution_count": 42
        }
      ]
    },
    {
      "cell_type": "code",
      "metadata": {
        "id": "1JnTZ1vcYlFF"
      },
      "source": [
        "x = df['eng'].values"
      ],
      "execution_count": null,
      "outputs": []
    },
    {
      "cell_type": "code",
      "metadata": {
        "id": "WXTX73hdYwIF"
      },
      "source": [
        "for i in range(len(x)):\n",
        "    x[i] = x[i].replace('\\n', ' ')"
      ],
      "execution_count": null,
      "outputs": []
    },
    {
      "cell_type": "code",
      "metadata": {
        "id": "nfjjUXfnYytn"
      },
      "source": [
        "x_train, x_test, y_train, y_test = train_test_split(x, y,test_size=0.33, shuffle=True)"
      ],
      "execution_count": null,
      "outputs": []
    },
    {
      "cell_type": "code",
      "metadata": {
        "id": "JMd4L1o7Y5CU"
      },
      "source": [
        "vocab_size = 1000\n",
        "oov_token = '<oov>'\n",
        "trunc='post'\n",
        "maxlen = 50\n",
        "embedded_dim = 8"
      ],
      "execution_count": null,
      "outputs": []
    },
    {
      "cell_type": "code",
      "metadata": {
        "id": "U98aac21Y9h-"
      },
      "source": [
        "tokenizer = Tokenizer(num_words=vocab_size, oov_token=oov_token)"
      ],
      "execution_count": null,
      "outputs": []
    },
    {
      "cell_type": "code",
      "metadata": {
        "id": "lnboIVS8ZFT_"
      },
      "source": [
        "tokenizer.fit_on_texts(x_train)\n",
        "word_index = tokenizer.word_index"
      ],
      "execution_count": null,
      "outputs": []
    },
    {
      "cell_type": "code",
      "metadata": {
        "id": "Ka-g7Cm2ZVP1"
      },
      "source": [
        "sequences = tokenizer.texts_to_sequences(x_train)"
      ],
      "execution_count": null,
      "outputs": []
    },
    {
      "cell_type": "code",
      "metadata": {
        "colab": {
          "base_uri": "https://localhost:8080/"
        },
        "id": "zKP677_RZcsR",
        "outputId": "4aa9e56e-2c92-4d37-b16c-75291d9b9ef8"
      },
      "source": [
        "len(word_index)"
      ],
      "execution_count": null,
      "outputs": [
        {
          "output_type": "execute_result",
          "data": {
            "text/plain": [
              "36012"
            ]
          },
          "metadata": {},
          "execution_count": 51
        }
      ]
    },
    {
      "cell_type": "code",
      "metadata": {
        "id": "4VXx_NacZfXi"
      },
      "source": [
        "padded = pad_sequences(sequences, maxlen=maxlen, truncating=trunc)"
      ],
      "execution_count": null,
      "outputs": []
    },
    {
      "cell_type": "code",
      "metadata": {
        "colab": {
          "base_uri": "https://localhost:8080/"
        },
        "id": "kbJ88SaPZjix",
        "outputId": "136c97f0-1c0c-4ebc-b69b-0dea875ea56a"
      },
      "source": [
        "padded.shape"
      ],
      "execution_count": null,
      "outputs": [
        {
          "output_type": "execute_result",
          "data": {
            "text/plain": [
              "(82087, 50)"
            ]
          },
          "metadata": {},
          "execution_count": 53
        }
      ]
    },
    {
      "cell_type": "code",
      "metadata": {
        "id": "Dnlu9YLLZpCC"
      },
      "source": [
        "testing_sequence = tokenizer.texts_to_sequences(x_test)\n",
        "test_padded = pad_sequences(testing_sequence, maxlen=maxlen)"
      ],
      "execution_count": null,
      "outputs": []
    },
    {
      "cell_type": "code",
      "metadata": {
        "colab": {
          "base_uri": "https://localhost:8080/"
        },
        "id": "ESzcSh_aZrta",
        "outputId": "be18994b-a1bd-4aa6-d461-3f60b93d2d9a"
      },
      "source": [
        "test_padded.shape"
      ],
      "execution_count": null,
      "outputs": [
        {
          "output_type": "execute_result",
          "data": {
            "text/plain": [
              "(40432, 50)"
            ]
          },
          "metadata": {},
          "execution_count": 55
        }
      ]
    },
    {
      "cell_type": "code",
      "metadata": {
        "id": "ukxUk9qbZvTu"
      },
      "source": [
        "model = tf.keras.Sequential([\n",
        "    tf.keras.layers.Embedding(vocab_size,embedded_dim,input_length=maxlen),\n",
        "    tf.keras.layers.Conv1D(64, 3, activation='relu'),\n",
        "    tf.keras.layers.GlobalAveragePooling1D(),\n",
        "    tf.keras.layers.Dropout(0.2),\n",
        "    tf.keras.layers.Dense(50, activation='relu', activity_regularizer=tf.keras.regularizers.L2(0.01)),\n",
        "    tf.keras.layers.Dropout(0.2),\n",
        "    tf.keras.layers.Dense(50, activation='relu', activity_regularizer=tf.keras.regularizers.L2(0.01)),\n",
        "    tf.keras.layers.Dropout(0.2),\n",
        "    tf.keras.layers.Dense(4, activation='softmax')\n",
        "])"
      ],
      "execution_count": null,
      "outputs": []
    },
    {
      "cell_type": "code",
      "metadata": {
        "id": "fv3BvMhvZ6AB"
      },
      "source": [
        "model.compile(loss='sparse_categorical_crossentropy',metrics=['acc'], optimizer='adam')"
      ],
      "execution_count": null,
      "outputs": []
    },
    {
      "cell_type": "code",
      "metadata": {
        "colab": {
          "base_uri": "https://localhost:8080/"
        },
        "id": "js869I4kZ-Fd",
        "outputId": "a8ab5fa3-9d22-44eb-e0fa-16fb07516e4d"
      },
      "source": [
        "hist = model.fit(padded,y_train,batch_size=64, epochs=20, validation_data=(test_padded,y_test), validation_batch_size=64)"
      ],
      "execution_count": null,
      "outputs": [
        {
          "output_type": "stream",
          "text": [
            "Epoch 1/20\n",
            "1283/1283 [==============================] - 9s 6ms/step - loss: 0.5817 - acc: 0.7882 - val_loss: 0.4287 - val_acc: 0.8549\n",
            "Epoch 2/20\n",
            "1283/1283 [==============================] - 7s 6ms/step - loss: 0.3755 - acc: 0.8746 - val_loss: 0.4068 - val_acc: 0.8583\n",
            "Epoch 3/20\n",
            "1283/1283 [==============================] - 8s 6ms/step - loss: 0.3467 - acc: 0.8822 - val_loss: 0.3900 - val_acc: 0.8622\n",
            "Epoch 4/20\n",
            "1283/1283 [==============================] - 8s 6ms/step - loss: 0.3323 - acc: 0.8863 - val_loss: 0.3831 - val_acc: 0.8647\n",
            "Epoch 5/20\n",
            "1283/1283 [==============================] - 8s 6ms/step - loss: 0.3217 - acc: 0.8879 - val_loss: 0.3907 - val_acc: 0.8634\n",
            "Epoch 6/20\n",
            "1283/1283 [==============================] - 8s 6ms/step - loss: 0.3142 - acc: 0.8901 - val_loss: 0.3792 - val_acc: 0.8661\n",
            "Epoch 7/20\n",
            "1283/1283 [==============================] - 8s 6ms/step - loss: 0.3092 - acc: 0.8918 - val_loss: 0.3790 - val_acc: 0.8642\n",
            "Epoch 8/20\n",
            "1283/1283 [==============================] - 8s 6ms/step - loss: 0.3054 - acc: 0.8921 - val_loss: 0.3817 - val_acc: 0.8652\n",
            "Epoch 9/20\n",
            "1283/1283 [==============================] - 8s 6ms/step - loss: 0.3015 - acc: 0.8928 - val_loss: 0.3783 - val_acc: 0.8640\n",
            "Epoch 10/20\n",
            "1283/1283 [==============================] - 8s 6ms/step - loss: 0.2962 - acc: 0.8957 - val_loss: 0.3838 - val_acc: 0.8670\n",
            "Epoch 11/20\n",
            "1283/1283 [==============================] - 8s 6ms/step - loss: 0.2932 - acc: 0.8958 - val_loss: 0.3751 - val_acc: 0.8679\n",
            "Epoch 12/20\n",
            "1283/1283 [==============================] - 8s 6ms/step - loss: 0.2903 - acc: 0.8972 - val_loss: 0.3770 - val_acc: 0.8659\n",
            "Epoch 13/20\n",
            "1283/1283 [==============================] - 8s 6ms/step - loss: 0.2862 - acc: 0.8975 - val_loss: 0.3747 - val_acc: 0.8686\n",
            "Epoch 14/20\n",
            "1283/1283 [==============================] - 7s 6ms/step - loss: 0.2841 - acc: 0.8988 - val_loss: 0.3740 - val_acc: 0.8668\n",
            "Epoch 15/20\n",
            "1283/1283 [==============================] - 8s 6ms/step - loss: 0.2798 - acc: 0.9001 - val_loss: 0.3701 - val_acc: 0.8679\n",
            "Epoch 16/20\n",
            "1283/1283 [==============================] - 7s 6ms/step - loss: 0.2780 - acc: 0.9005 - val_loss: 0.3783 - val_acc: 0.8657\n",
            "Epoch 17/20\n",
            "1283/1283 [==============================] - 8s 6ms/step - loss: 0.2754 - acc: 0.9030 - val_loss: 0.3717 - val_acc: 0.8662\n",
            "Epoch 18/20\n",
            "1283/1283 [==============================] - 8s 6ms/step - loss: 0.2708 - acc: 0.9031 - val_loss: 0.3700 - val_acc: 0.8695\n",
            "Epoch 19/20\n",
            "1283/1283 [==============================] - 7s 6ms/step - loss: 0.2707 - acc: 0.9037 - val_loss: 0.3841 - val_acc: 0.8668\n",
            "Epoch 20/20\n",
            "1283/1283 [==============================] - 8s 6ms/step - loss: 0.2696 - acc: 0.9042 - val_loss: 0.3815 - val_acc: 0.8627\n"
          ],
          "name": "stdout"
        }
      ]
    },
    {
      "cell_type": "code",
      "metadata": {
        "colab": {
          "base_uri": "https://localhost:8080/"
        },
        "id": "7_Bvmlx_dNUf",
        "outputId": "c7c5f069-eca1-47b3-f0fd-df32e77d04f6"
      },
      "source": [
        "plot(hist)"
      ],
      "execution_count": null,
      "outputs": [
        {
          "output_type": "display_data",
          "data": {
            "image/png": "[encoded data removed]",
            "text/plain": [
              "<Figure size 432x288 with 1 Axes>"
            ]
          },
          "metadata": {
            "needs_background": "light"
          }
        }
      ]
    },
    {
      "cell_type": "code",
      "metadata": {
        "colab": {
          "base_uri": "https://localhost:8080/"
        },
        "id": "z_T2Y0sXdXHA",
        "outputId": "478a98ff-d78c-48bd-a9aa-6fc710be3379"
      },
      "source": [
        "plot(hist, 'acc')"
      ],
      "execution_count": null,
      "outputs": [
        {
          "output_type": "display_data",
          "data": {
            "image/png": "[encoded data removed]",
            "text/plain": [
              "<Figure size 432x288 with 1 Axes>"
            ]
          },
          "metadata": {
            "needs_background": "light"
          }
        }
      ]
    },
    {
      "cell_type": "code",
      "metadata": {
        "colab": {
          "base_uri": "https://localhost:8080/"
        },
        "id": "DW6ZSga42pPJ",
        "outputId": "277e3f60-7694-4cfe-e240-01aa496ed119"
      },
      "source": [
        "text='''Some hydrogen-like atom in ground state absorb \\( n \\) photons having the same energy and on de-excitation, it\n",
        "emits exactly \\( n \\) photons. Then the energy of absorbed photon may be:\n",
        "This question has multiple correct options\n",
        "A. \\( 91.8 e V \\)\n",
        "B. \\( 40.8 e V \\)\n",
        "c. \\( 48.4 e V \\)\n",
        "D. \\( 54.4 e V \\))'''.replace('\\n',' ')\n",
        "\n",
        "\n",
        "sequences1 = tokenizer.texts_to_sequences([text])\n",
        "\n",
        "#print(len(sequences1))\n",
        "padded1 = pad_sequences(sequences1, maxlen=maxlen, truncating=trunc)\n",
        "#padded1.shape\n",
        "model.predict(padded1)\n"
      ],
      "execution_count": null,
      "outputs": [
        {
          "output_type": "execute_result",
          "data": {
            "text/plain": [
              "array([[2.3557737e-03, 6.4698178e-01, 4.7016589e-04, 3.5019225e-01]],\n",
              "      dtype=float32)"
            ]
          },
          "metadata": {},
          "execution_count": 61
        }
      ]
    },
    {
      "cell_type": "code",
      "metadata": {
        "id": "5mN3c0eS1pil"
      },
      "source": [
        "import pickle\n",
        "\n",
        "with open('/content/drive/MyDrive/Colab Notebooks/tokenizer20.pickle', 'wb') as handle:\n",
        "    pickle.dump(tokenizer, handle, protocol=pickle.HIGHEST_PROTOCOL)"
      ],
      "execution_count": null,
      "outputs": []
    },
    {
      "cell_type": "code",
      "metadata": {
        "id": "GrRUTf9XdcfR"
      },
      "source": [
        "model.save('/content/drive/MyDrive/Colab Notebooks/pcmb20_model.h5')"
      ],
      "execution_count": null,
      "outputs": []
    }
  ]
}