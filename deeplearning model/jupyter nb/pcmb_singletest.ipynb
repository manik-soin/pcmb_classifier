{
  "nbformat": 4,
  "nbformat_minor": 0,
  "metadata": {
    "colab": {
      "name": "pcmb_singletest.ipynb",
      "provenance": [],
      "collapsed_sections": []
    },
    "kernelspec": {
      "display_name": "Python 3",
      "name": "python3"
    },
    "language_info": {
      "name": "python"
    }
  },
  "cells": [
    {
      "cell_type": "code",
      "metadata": {
        "id": "np2FrTkA5xCb"
      },
      "source": [
        "import pandas as pd\n",
        "import pickle"
      ],
      "execution_count": 8,
      "outputs": []
    },
    {
      "cell_type": "code",
      "metadata": {
        "id": "lhTwbrG2m9ms"
      },
      "source": [
        "import tensorflow as tf\n",
        "from tensorflow.keras.preprocessing.text import Tokenizer\n",
        "from tensorflow.keras.preprocessing.sequence import pad_sequences\n",
        "model=tf.keras.models.load_model('/content/drive/MyDrive/Colab Notebooks/pcmb15_model.h5')\n",
        "with open('/content/drive/MyDrive/Colab Notebooks/tokenizer.pickle', 'rb') as handle:\n",
        "    tokenizer = pickle.load(handle)"
      ],
      "execution_count": 9,
      "outputs": []
    },
    {
      "cell_type": "code",
      "metadata": {
        "id": "URNkMVJ9umzh"
      },
      "source": [
        "def prepare_question(text):\n",
        "  text=text.replace('\\n',' ')\n",
        "  vocab_size = 1000\n",
        "  oov_token = '<oov>'\n",
        "  trunc='post'\n",
        "  maxlen = 50\n",
        "  embedded_dim = 8\n",
        "  # tokenizer = Tokenizer(num_words=vocab_size, oov_token=oov_token)\n",
        "  # tokenizer.fit_on_texts([text])\n",
        "  # word_index = tokenizer.word_index\n",
        "  sequences = tokenizer.texts_to_sequences([text])\n",
        "  return pad_sequences(sequences, maxlen=maxlen, truncating=trunc)"
      ],
      "execution_count": 10,
      "outputs": []
    },
    {
      "cell_type": "code",
      "metadata": {
        "colab": {
          "base_uri": "https://localhost:8080/"
        },
        "id": "EcUCVAeB4d2k",
        "outputId": "df235b2d-f383-406e-b11f-da4bfee8292d"
      },
      "source": [
        "from google.colab import drive\n",
        "drive.mount('/content/drive')"
      ],
      "execution_count": 11,
      "outputs": [
        {
          "output_type": "stream",
          "text": [
            "Drive already mounted at /content/drive; to attempt to forcibly remount, call drive.mount(\"/content/drive\", force_remount=True).\n"
          ],
          "name": "stdout"
        }
      ]
    },
    {
      "cell_type": "code",
      "metadata": {
        "id": "iRPmjQZF5LiA"
      },
      "source": [
        "def pcmb_classify(test_string):\n",
        "    input=prepare_question(test_string)\n",
        "    a=model.predict([input]).tolist()[0]\n",
        "    #print(a)\n",
        "    max_val=max(a)\n",
        "    max_index=a.index(max_val)\n",
        "\n",
        "    subjects={\n",
        "            0:'Biology',\n",
        "            1:'Chemistry',\n",
        "            2:'Maths',\n",
        "            3:'Physics'\n",
        "            }\n",
        "\n",
        "    prediction=subjects[max_index]\n",
        "    return prediction"
      ],
      "execution_count": 15,
      "outputs": []
    },
    {
      "cell_type": "code",
      "metadata": {
        "id": "tb8zQLhrSfvh"
      },
      "source": [
        "test_string=\"\"\" \n",
        "(i) A constant electric field in the z-direction.\n",
        "(ii) A field that uniformly increase in magnitude but its direction remains unchanged along the \"\"\""
      ],
      "execution_count": 13,
      "outputs": []
    },
    {
      "cell_type": "code",
      "metadata": {
        "colab": {
          "base_uri": "https://localhost:8080/",
          "height": 53
        },
        "id": "7o5Y4nmI8gW4",
        "outputId": "3690a82a-1310-4f09-ffe0-9670952951ea"
      },
      "source": [
        "pcmb_classify(test_string)"
      ],
      "execution_count": 16,
      "outputs": [
        {
          "output_type": "stream",
          "text": [
            "[0.011251150630414486, 0.2679801881313324, 0.07356976717710495, 0.6471988558769226]\n"
          ],
          "name": "stdout"
        },
        {
          "output_type": "execute_result",
          "data": {
            "application/vnd.google.colaboratory.intrinsic+json": {
              "type": "string"
            },
            "text/plain": [
              "'Physics'"
            ]
          },
          "metadata": {},
          "execution_count": 16
        }
      ]
    }
  ]
}